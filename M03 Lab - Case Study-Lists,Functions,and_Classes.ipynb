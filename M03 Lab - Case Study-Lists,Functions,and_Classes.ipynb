{
 "cells": [
  {
   "cell_type": "markdown",
   "id": "629947f1",
   "metadata": {},
   "source": [
    "A super class called Vehicle, which contains an attribute for vehicle type, such as car, truck, plane, boat, or a broomstick.\n",
    "\n",
    "A class called Automobile which will inherit the attributes from Vehicle and also contain the following attributes:\n",
    "year\n",
    "make\n",
    "model\n",
    "doors (2 or 4)\n",
    "roof (solid or sun roof).\n",
    "\n",
    "Write an app that will accept user input for a car. The app will store \"car\" into the vehicle type in your Vehicle super class. \n",
    "The app will then ask the user for the year, make, model, doors, and type of roof and store thdata in the attributes above.\n",
    "The app will then output the data in an easy-to-read and understandable format, such as this:\n",
    "  Vehicle type: car\n",
    "  Year: 2022\n",
    "  Make: Toyota\n",
    "  Model: Corolla\n",
    "  Number of doors: 4\n",
    "  Type of roof: sun roof\n",
    "\n",
    "\n"
   ]
  },
  {
   "cell_type": "markdown",
   "id": "9291874b",
   "metadata": {},
   "source": [
    "#vehicle class with custrutor"
   ]
  },
  {
   "cell_type": "code",
   "execution_count": 1,
   "id": "42df9522",
   "metadata": {},
   "outputs": [],
   "source": [
    "class Vehicle:\n",
    "\tdef __init__(self,type):   #constructor for type\n",
    "\t\tself.type=type "
   ]
  },
  {
   "cell_type": "markdown",
   "id": "9265b4d8",
   "metadata": {},
   "source": [
    "#new subclass Automobile from vehicle"
   ]
  },
  {
   "cell_type": "code",
   "execution_count": 2,
   "id": "38f7cdcf",
   "metadata": {},
   "outputs": [],
   "source": [
    "class Automobile(Vehicle):\n",
    "\tdef __init__(self,type,year,make,model,doors,roof):\n",
    "\t\tsuper().__init__(type) #super function is called to invoke vehicle class constructor\n",
    "\t\tself.year=year\n",
    "\t\tself.make=make\n",
    "\t\tself.model=model\n",
    "\t\tself.doors=doors\n",
    "\t\tself.roof=roof"
   ]
  },
  {
   "cell_type": "code",
   "execution_count": 4,
   "id": "c1ee3644",
   "metadata": {},
   "outputs": [
    {
     "name": "stdout",
     "output_type": "stream",
     "text": [
      "Type of vehicle :car\n",
      "Enter the year :2030\n",
      "Enter who manufacture :toyota\n",
      "Enter the model :corola\n",
      "Enter the number of doors(2 or 4) :2\n",
      "solid or sun roof :sunroof\n"
     ]
    }
   ],
   "source": [
    "type_i=input(\"Type of vehicle :\")\n",
    "year_i=input(\"Enter the year :\")\n",
    "make_i=input(\"Enter who manufacture :\")\n",
    "model_i=input(\"Enter the model :\")\n",
    "doors_i=input(\"Enter the number of doors(2 or 4) :\")\n",
    "roof_i=input(\"solid or sun roof :\")\n",
    "A = Automobile(type_i,year_i,make_i,model_i,doors_i,roof_i) #calling the constructor with alls values readed"
   ]
  },
  {
   "cell_type": "markdown",
   "id": "e0c4dc36",
   "metadata": {},
   "source": [
    "#print the deatils"
   ]
  },
  {
   "cell_type": "code",
   "execution_count": 6,
   "id": "466ff8af",
   "metadata": {},
   "outputs": [
    {
     "name": "stdout",
     "output_type": "stream",
     "text": [
      "\n",
      "Vehicle Type :car\n",
      "\n",
      "Year :2030\n",
      "\n",
      "Make :toyota\n",
      "\n",
      "Model :corola\n",
      "\n",
      "No of doors :2\n",
      "\n",
      "Type of roof :sunroof\n"
     ]
    }
   ],
   "source": [
    "print(\"\\nVehicle Type :\"+A.type)\n",
    "print(\"\\nYear :\"+A.year)\n",
    "print(\"\\nMake :\"+A.make)\n",
    "print(\"\\nModel :\"+A.model)\n",
    "print(\"\\nNo of doors :\"+A.doors)\n",
    "print(\"\\nType of roof :\"+A.roof)\n"
   ]
  },
  {
   "cell_type": "code",
   "execution_count": null,
   "id": "9c59a2df",
   "metadata": {},
   "outputs": [],
   "source": []
  }
 ],
 "metadata": {
  "kernelspec": {
   "display_name": "Python 3 (ipykernel)",
   "language": "python",
   "name": "python3"
  },
  "language_info": {
   "codemirror_mode": {
    "name": "ipython",
    "version": 3
   },
   "file_extension": ".py",
   "mimetype": "text/x-python",
   "name": "python",
   "nbconvert_exporter": "python",
   "pygments_lexer": "ipython3",
   "version": "3.9.12"
  }
 },
 "nbformat": 4,
 "nbformat_minor": 5
}
